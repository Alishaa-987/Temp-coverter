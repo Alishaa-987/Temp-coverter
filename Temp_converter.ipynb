{
  "nbformat": 4,
  "nbformat_minor": 0,
  "metadata": {
    "colab": {
      "provenance": [],
      "authorship_tag": "ABX9TyNKp6UTr6pT5kmMHqnM4XXP",
      "include_colab_link": true
    },
    "kernelspec": {
      "name": "python3",
      "display_name": "Python 3"
    },
    "language_info": {
      "name": "python"
    }
  },
  "cells": [
    {
      "cell_type": "markdown",
      "metadata": {
        "id": "view-in-github",
        "colab_type": "text"
      },
      "source": [
        "<a href=\"https://colab.research.google.com/github/Alishaa-987/Temp-coverter/blob/main/Temp_converter.ipynb\" target=\"_parent\"><img src=\"https://colab.research.google.com/assets/colab-badge.svg\" alt=\"Open In Colab\"/></a>"
      ]
    },
    {
      "cell_type": "code",
      "source": [
        "def celsius_to_fahrenheit(celsius):\n",
        "    return (celsius * 9/5) + 32\n",
        "\n",
        "def fahrenheit_to_celsius(fahrenheit):\n",
        "    return (fahrenheit - 32) * 5/9\n",
        "\n",
        "def celsius_to_kelvin(celsius):\n",
        "    return celsius + 273.15\n",
        "\n",
        "def kelvin_to_celsius(kelvin):\n",
        "    return kelvin - 273.15\n",
        "\n",
        "def fahrenheit_to_kelvin(fahrenheit):\n",
        "    return celsius_to_kelvin(fahrenheit_to_celsius(fahrenheit))\n",
        "\n",
        "def kelvin_to_fahrenheit(kelvin):\n",
        "    return celsius_to_fahrenheit(kelvin_to_celsius(kelvin))\n",
        "\n",
        "def temperature_converter():\n",
        "    print(\"\\n--- Welcome to the Temperature Converter! ---\")\n",
        "    print(\"Choose the conversion option:\")\n",
        "    print(\"1. Celsius to Fahrenheit\")\n",
        "    print(\"2. Fahrenheit to Celsius\")\n",
        "    print(\"3. Celsius to Kelvin\")\n",
        "    print(\"4. Kelvin to Celsius\")\n",
        "    print(\"5. Fahrenheit to Kelvin\")\n",
        "    print(\"6. Kelvin to Fahrenheit\")\n",
        "\n",
        "    # Prompt for the user's choice\n",
        "    choice = input(\"\\nEnter the number of your choice (1-6): \")\n",
        "\n",
        "    # Check user's choice and request the appropriate temperature input\n",
        "    if choice == '1':\n",
        "        celsius = float(input(\"Enter temperature in Celsius: \"))\n",
        "        print(f\"{celsius}°C is {celsius_to_fahrenheit(celsius):.2f}°F\")\n",
        "    elif choice == '2':\n",
        "        fahrenheit = float(input(\"Enter temperature in Fahrenheit: \"))\n",
        "        print(f\"{fahrenheit}°F is {fahrenheit_to_celsius(fahrenheit):.2f}°C\")\n",
        "    elif choice == '3':\n",
        "        celsius = float(input(\"Enter temperature in Celsius: \"))\n",
        "        print(f\"{celsius}°C is {celsius_to_kelvin(celsius):.2f}K\")\n",
        "    elif choice == '4':\n",
        "        kelvin = float(input(\"Enter temperature in Kelvin: \"))\n",
        "        print(f\"{kelvin}K is {kelvin_to_celsius(kelvin):.2f}°C\")\n",
        "    elif choice == '5':\n",
        "        fahrenheit = float(input(\"Enter temperature in Fahrenheit: \"))\n",
        "        print(f\"{fahrenheit}°F is {fahrenheit_to_kelvin(fahrenheit):.2f}K\")\n",
        "    elif choice == '6':\n",
        "        kelvin = float(input(\"Enter temperature in Kelvin: \"))\n",
        "        print(f\"{kelvin}K is {kelvin_to_fahrenheit(kelvin):.2f}°F\")\n",
        "    else:\n",
        "        print(\"Invalid choice! Please choose a valid number between 1 and 6.\")\n",
        "\n",
        "# Call the function to run the temperature converter\n",
        "temperature_converter()\n"
      ],
      "metadata": {
        "colab": {
          "base_uri": "https://localhost:8080/"
        },
        "id": "H-kjJycvVRzw",
        "outputId": "c4c3fad5-dcad-4cb2-beb9-f127908889f1"
      },
      "execution_count": 5,
      "outputs": [
        {
          "output_type": "stream",
          "name": "stdout",
          "text": [
            "\n",
            "--- Welcome to the Temperature Converter! ---\n",
            "Choose the conversion option:\n",
            "1. Celsius to Fahrenheit\n",
            "2. Fahrenheit to Celsius\n",
            "3. Celsius to Kelvin\n",
            "4. Kelvin to Celsius\n",
            "5. Fahrenheit to Kelvin\n",
            "6. Kelvin to Fahrenheit\n",
            "\n",
            "Enter the number of your choice (1-6): 5\n",
            "Enter temperature in Fahrenheit: 56\n",
            "56.0°F is 286.48K\n"
          ]
        }
      ]
    }
  ]
}